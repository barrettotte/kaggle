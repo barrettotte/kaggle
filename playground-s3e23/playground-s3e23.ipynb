{
 "cells": [
  {
   "cell_type": "markdown",
   "id": "f9d98695-62c2-459b-9205-809110f42bd5",
   "metadata": {},
   "source": [
    "# Playground Series S3E23 - Binary Classification with a Software Defects Dataset\n",
    "\n",
    "https://www.kaggle.com/competitions/playground-series-s3e23\n",
    "\n",
    "https://www.kaggle.com/datasets/semustafacevik/software-defect-prediction"
   ]
  },
  {
   "cell_type": "markdown",
   "id": "e82bb1bd-115d-4441-92ed-b69d2eda69d2",
   "metadata": {},
   "source": [
    "## Setup"
   ]
  },
  {
   "cell_type": "code",
   "execution_count": 118,
   "id": "0abdc0cc-9e8f-4b5d-92f0-b28b2355f4ee",
   "metadata": {},
   "outputs": [],
   "source": [
    "import os\n",
    "import glob\n",
    "from pathlib import Path\n",
    "import random\n",
    "import time\n",
    "from PIL import Image\n",
    "\n",
    "import warnings\n",
    "warnings.filterwarnings('ignore')\n",
    "\n",
    "import numpy as np\n",
    "import pandas as pd\n",
    "import matplotlib.pyplot as plt\n",
    "import seaborn as sns\n",
    "\n",
    "%matplotlib inline\n",
    "\n",
    "import xgboost\n",
    "from catboost import CatBoostClassifier\n",
    "from sklearn.ensemble import RandomForestClassifier\n",
    "from sklearn.model_selection import train_test_split, GridSearchCV\n",
    "from sklearn.metrics import recall_score, f1_score, precision_score, roc_auc_score\n",
    "from sklearn.tree import DecisionTreeClassifier"
   ]
  },
  {
   "cell_type": "code",
   "execution_count": 61,
   "id": "4de3a577-c78c-4bb2-bdfd-66d327b43cb6",
   "metadata": {},
   "outputs": [],
   "source": [
    "IS_KAGGLE = os.environ.get('KAGGLE_KERNEL_RUN_TYPE', '')\n",
    "\n",
    "COMP_NAME = 'playground-series-s3e23'\n",
    "if COMP_NAME is None:\n",
    "    raise NameError('COMP_NAME has not been initialized')\n",
    "\n",
    "DATA_PATH = Path('../input/' + COMP_NAME) if IS_KAGGLE else Path('./data')\n",
    "\n",
    "RANDOM_SEED = 42"
   ]
  },
  {
   "cell_type": "code",
   "execution_count": 62,
   "id": "378f376a-8ede-4539-9eb2-2d1db6af2323",
   "metadata": {},
   "outputs": [],
   "source": [
    "random.seed(RANDOM_SEED)\n",
    "np.random.seed(RANDOM_SEED)"
   ]
  },
  {
   "cell_type": "markdown",
   "id": "c86f9a94-a0a4-4cbb-8968-89ba8f903bc9",
   "metadata": {},
   "source": [
    "## Load Data"
   ]
  },
  {
   "cell_type": "code",
   "execution_count": 63,
   "id": "8e6e5fff-683d-4970-ba15-456dcdd3f809",
   "metadata": {},
   "outputs": [],
   "source": [
    "path = Path('./data')\n",
    "if not DATA_PATH.exists():\n",
    "    import zipfile, kaggle\n",
    "    kaggle.api.competition_download_cli(COMP_NAME)\n",
    "    zipfile.ZipFile(f'{COMP_NAME}.zip').extractall(DATA_PATH)"
   ]
  },
  {
   "cell_type": "code",
   "execution_count": 64,
   "id": "415d2f48-a246-4e88-bf5a-9603893f0254",
   "metadata": {},
   "outputs": [
    {
     "name": "stdout",
     "output_type": "stream",
     "text": [
      "train: (101763, 23)\n",
      "test: (67842, 22)\n"
     ]
    }
   ],
   "source": [
    "train_data = pd.read_csv(DATA_PATH / 'train.csv')\n",
    "test_data = pd.read_csv(DATA_PATH / 'test.csv')\n",
    "\n",
    "print('train:', train_data.shape)\n",
    "print('test:', test_data.shape)"
   ]
  },
  {
   "cell_type": "markdown",
   "id": "8e5b7e11-dfcb-458e-b8d1-fba92463a35b",
   "metadata": {},
   "source": [
    "## Data Exploration"
   ]
  },
  {
   "cell_type": "code",
   "execution_count": 65,
   "id": "1f87e1a0-0e1a-4de2-8365-ed02a927ac3a",
   "metadata": {},
   "outputs": [
    {
     "data": {
      "text/html": [
       "<div>\n",
       "<style scoped>\n",
       "    .dataframe tbody tr th:only-of-type {\n",
       "        vertical-align: middle;\n",
       "    }\n",
       "\n",
       "    .dataframe tbody tr th {\n",
       "        vertical-align: top;\n",
       "    }\n",
       "\n",
       "    .dataframe thead th {\n",
       "        text-align: right;\n",
       "    }\n",
       "</style>\n",
       "<table border=\"1\" class=\"dataframe\">\n",
       "  <thead>\n",
       "    <tr style=\"text-align: right;\">\n",
       "      <th></th>\n",
       "      <th>id</th>\n",
       "      <th>loc</th>\n",
       "      <th>v(g)</th>\n",
       "      <th>ev(g)</th>\n",
       "      <th>iv(g)</th>\n",
       "      <th>n</th>\n",
       "      <th>v</th>\n",
       "      <th>l</th>\n",
       "      <th>d</th>\n",
       "      <th>i</th>\n",
       "      <th>...</th>\n",
       "      <th>lOCode</th>\n",
       "      <th>lOComment</th>\n",
       "      <th>lOBlank</th>\n",
       "      <th>locCodeAndComment</th>\n",
       "      <th>uniq_Op</th>\n",
       "      <th>uniq_Opnd</th>\n",
       "      <th>total_Op</th>\n",
       "      <th>total_Opnd</th>\n",
       "      <th>branchCount</th>\n",
       "      <th>defects</th>\n",
       "    </tr>\n",
       "  </thead>\n",
       "  <tbody>\n",
       "    <tr>\n",
       "      <th>0</th>\n",
       "      <td>0</td>\n",
       "      <td>22.0</td>\n",
       "      <td>3.0</td>\n",
       "      <td>1.0</td>\n",
       "      <td>2.0</td>\n",
       "      <td>60.0</td>\n",
       "      <td>278.63</td>\n",
       "      <td>0.06</td>\n",
       "      <td>19.56</td>\n",
       "      <td>14.25</td>\n",
       "      <td>...</td>\n",
       "      <td>17</td>\n",
       "      <td>1</td>\n",
       "      <td>1</td>\n",
       "      <td>0</td>\n",
       "      <td>16.0</td>\n",
       "      <td>9.0</td>\n",
       "      <td>38.0</td>\n",
       "      <td>22.0</td>\n",
       "      <td>5.0</td>\n",
       "      <td>False</td>\n",
       "    </tr>\n",
       "    <tr>\n",
       "      <th>1</th>\n",
       "      <td>1</td>\n",
       "      <td>14.0</td>\n",
       "      <td>2.0</td>\n",
       "      <td>1.0</td>\n",
       "      <td>2.0</td>\n",
       "      <td>32.0</td>\n",
       "      <td>151.27</td>\n",
       "      <td>0.14</td>\n",
       "      <td>7.00</td>\n",
       "      <td>21.11</td>\n",
       "      <td>...</td>\n",
       "      <td>11</td>\n",
       "      <td>0</td>\n",
       "      <td>1</td>\n",
       "      <td>0</td>\n",
       "      <td>11.0</td>\n",
       "      <td>11.0</td>\n",
       "      <td>18.0</td>\n",
       "      <td>14.0</td>\n",
       "      <td>3.0</td>\n",
       "      <td>False</td>\n",
       "    </tr>\n",
       "    <tr>\n",
       "      <th>2</th>\n",
       "      <td>2</td>\n",
       "      <td>11.0</td>\n",
       "      <td>2.0</td>\n",
       "      <td>1.0</td>\n",
       "      <td>2.0</td>\n",
       "      <td>45.0</td>\n",
       "      <td>197.65</td>\n",
       "      <td>0.11</td>\n",
       "      <td>8.05</td>\n",
       "      <td>22.76</td>\n",
       "      <td>...</td>\n",
       "      <td>8</td>\n",
       "      <td>0</td>\n",
       "      <td>1</td>\n",
       "      <td>0</td>\n",
       "      <td>12.0</td>\n",
       "      <td>11.0</td>\n",
       "      <td>28.0</td>\n",
       "      <td>17.0</td>\n",
       "      <td>3.0</td>\n",
       "      <td>False</td>\n",
       "    </tr>\n",
       "    <tr>\n",
       "      <th>3</th>\n",
       "      <td>3</td>\n",
       "      <td>8.0</td>\n",
       "      <td>1.0</td>\n",
       "      <td>1.0</td>\n",
       "      <td>1.0</td>\n",
       "      <td>23.0</td>\n",
       "      <td>94.01</td>\n",
       "      <td>0.19</td>\n",
       "      <td>5.25</td>\n",
       "      <td>17.86</td>\n",
       "      <td>...</td>\n",
       "      <td>4</td>\n",
       "      <td>0</td>\n",
       "      <td>2</td>\n",
       "      <td>0</td>\n",
       "      <td>8.0</td>\n",
       "      <td>6.0</td>\n",
       "      <td>16.0</td>\n",
       "      <td>7.0</td>\n",
       "      <td>1.0</td>\n",
       "      <td>True</td>\n",
       "    </tr>\n",
       "    <tr>\n",
       "      <th>4</th>\n",
       "      <td>4</td>\n",
       "      <td>11.0</td>\n",
       "      <td>2.0</td>\n",
       "      <td>1.0</td>\n",
       "      <td>2.0</td>\n",
       "      <td>17.0</td>\n",
       "      <td>60.94</td>\n",
       "      <td>0.18</td>\n",
       "      <td>5.63</td>\n",
       "      <td>12.44</td>\n",
       "      <td>...</td>\n",
       "      <td>7</td>\n",
       "      <td>0</td>\n",
       "      <td>2</td>\n",
       "      <td>0</td>\n",
       "      <td>7.0</td>\n",
       "      <td>6.0</td>\n",
       "      <td>10.0</td>\n",
       "      <td>10.0</td>\n",
       "      <td>3.0</td>\n",
       "      <td>False</td>\n",
       "    </tr>\n",
       "  </tbody>\n",
       "</table>\n",
       "<p>5 rows × 23 columns</p>\n",
       "</div>"
      ],
      "text/plain": [
       "   id   loc  v(g)  ev(g)  iv(g)     n       v     l      d      i  ...  \\\n",
       "0   0  22.0   3.0    1.0    2.0  60.0  278.63  0.06  19.56  14.25  ...   \n",
       "1   1  14.0   2.0    1.0    2.0  32.0  151.27  0.14   7.00  21.11  ...   \n",
       "2   2  11.0   2.0    1.0    2.0  45.0  197.65  0.11   8.05  22.76  ...   \n",
       "3   3   8.0   1.0    1.0    1.0  23.0   94.01  0.19   5.25  17.86  ...   \n",
       "4   4  11.0   2.0    1.0    2.0  17.0   60.94  0.18   5.63  12.44  ...   \n",
       "\n",
       "   lOCode  lOComment  lOBlank  locCodeAndComment  uniq_Op  uniq_Opnd  \\\n",
       "0      17          1        1                  0     16.0        9.0   \n",
       "1      11          0        1                  0     11.0       11.0   \n",
       "2       8          0        1                  0     12.0       11.0   \n",
       "3       4          0        2                  0      8.0        6.0   \n",
       "4       7          0        2                  0      7.0        6.0   \n",
       "\n",
       "   total_Op  total_Opnd  branchCount  defects  \n",
       "0      38.0        22.0          5.0    False  \n",
       "1      18.0        14.0          3.0    False  \n",
       "2      28.0        17.0          3.0    False  \n",
       "3      16.0         7.0          1.0     True  \n",
       "4      10.0        10.0          3.0    False  \n",
       "\n",
       "[5 rows x 23 columns]"
      ]
     },
     "execution_count": 65,
     "metadata": {},
     "output_type": "execute_result"
    }
   ],
   "source": [
    "train_data.head(5)"
   ]
  },
  {
   "cell_type": "code",
   "execution_count": 66,
   "id": "f3f4fa65-3903-484d-92aa-54c2425584c1",
   "metadata": {},
   "outputs": [
    {
     "data": {
      "text/html": [
       "<div>\n",
       "<style scoped>\n",
       "    .dataframe tbody tr th:only-of-type {\n",
       "        vertical-align: middle;\n",
       "    }\n",
       "\n",
       "    .dataframe tbody tr th {\n",
       "        vertical-align: top;\n",
       "    }\n",
       "\n",
       "    .dataframe thead th {\n",
       "        text-align: right;\n",
       "    }\n",
       "</style>\n",
       "<table border=\"1\" class=\"dataframe\">\n",
       "  <thead>\n",
       "    <tr style=\"text-align: right;\">\n",
       "      <th></th>\n",
       "      <th>id</th>\n",
       "      <th>loc</th>\n",
       "      <th>v(g)</th>\n",
       "      <th>ev(g)</th>\n",
       "      <th>iv(g)</th>\n",
       "      <th>n</th>\n",
       "      <th>v</th>\n",
       "      <th>l</th>\n",
       "      <th>d</th>\n",
       "      <th>i</th>\n",
       "      <th>...</th>\n",
       "      <th>t</th>\n",
       "      <th>lOCode</th>\n",
       "      <th>lOComment</th>\n",
       "      <th>lOBlank</th>\n",
       "      <th>locCodeAndComment</th>\n",
       "      <th>uniq_Op</th>\n",
       "      <th>uniq_Opnd</th>\n",
       "      <th>total_Op</th>\n",
       "      <th>total_Opnd</th>\n",
       "      <th>branchCount</th>\n",
       "    </tr>\n",
       "  </thead>\n",
       "  <tbody>\n",
       "    <tr>\n",
       "      <th>0</th>\n",
       "      <td>101763</td>\n",
       "      <td>33.0</td>\n",
       "      <td>5.0</td>\n",
       "      <td>1.0</td>\n",
       "      <td>4.0</td>\n",
       "      <td>144.0</td>\n",
       "      <td>824.82</td>\n",
       "      <td>0.04</td>\n",
       "      <td>26.96</td>\n",
       "      <td>30.05</td>\n",
       "      <td>...</td>\n",
       "      <td>1257.60</td>\n",
       "      <td>30</td>\n",
       "      <td>0</td>\n",
       "      <td>3</td>\n",
       "      <td>0</td>\n",
       "      <td>21.0</td>\n",
       "      <td>23.0</td>\n",
       "      <td>87.0</td>\n",
       "      <td>57.0</td>\n",
       "      <td>9.0</td>\n",
       "    </tr>\n",
       "    <tr>\n",
       "      <th>1</th>\n",
       "      <td>101764</td>\n",
       "      <td>27.0</td>\n",
       "      <td>8.0</td>\n",
       "      <td>8.0</td>\n",
       "      <td>2.0</td>\n",
       "      <td>125.0</td>\n",
       "      <td>646.24</td>\n",
       "      <td>0.04</td>\n",
       "      <td>22.82</td>\n",
       "      <td>27.22</td>\n",
       "      <td>...</td>\n",
       "      <td>804.58</td>\n",
       "      <td>23</td>\n",
       "      <td>0</td>\n",
       "      <td>2</td>\n",
       "      <td>0</td>\n",
       "      <td>18.0</td>\n",
       "      <td>19.0</td>\n",
       "      <td>70.0</td>\n",
       "      <td>49.0</td>\n",
       "      <td>15.0</td>\n",
       "    </tr>\n",
       "    <tr>\n",
       "      <th>2</th>\n",
       "      <td>101765</td>\n",
       "      <td>130.0</td>\n",
       "      <td>11.0</td>\n",
       "      <td>7.0</td>\n",
       "      <td>10.0</td>\n",
       "      <td>545.0</td>\n",
       "      <td>3831.40</td>\n",
       "      <td>0.02</td>\n",
       "      <td>48.15</td>\n",
       "      <td>66.17</td>\n",
       "      <td>...</td>\n",
       "      <td>6453.34</td>\n",
       "      <td>99</td>\n",
       "      <td>9</td>\n",
       "      <td>17</td>\n",
       "      <td>1</td>\n",
       "      <td>26.0</td>\n",
       "      <td>53.0</td>\n",
       "      <td>333.0</td>\n",
       "      <td>244.0</td>\n",
       "      <td>21.0</td>\n",
       "    </tr>\n",
       "    <tr>\n",
       "      <th>3</th>\n",
       "      <td>101766</td>\n",
       "      <td>65.0</td>\n",
       "      <td>7.0</td>\n",
       "      <td>1.0</td>\n",
       "      <td>7.0</td>\n",
       "      <td>156.0</td>\n",
       "      <td>855.71</td>\n",
       "      <td>0.06</td>\n",
       "      <td>17.23</td>\n",
       "      <td>49.89</td>\n",
       "      <td>...</td>\n",
       "      <td>896.42</td>\n",
       "      <td>45</td>\n",
       "      <td>8</td>\n",
       "      <td>10</td>\n",
       "      <td>0</td>\n",
       "      <td>15.0</td>\n",
       "      <td>26.0</td>\n",
       "      <td>88.0</td>\n",
       "      <td>60.0</td>\n",
       "      <td>13.0</td>\n",
       "    </tr>\n",
       "    <tr>\n",
       "      <th>4</th>\n",
       "      <td>101767</td>\n",
       "      <td>22.0</td>\n",
       "      <td>3.0</td>\n",
       "      <td>1.0</td>\n",
       "      <td>3.0</td>\n",
       "      <td>52.0</td>\n",
       "      <td>238.42</td>\n",
       "      <td>0.10</td>\n",
       "      <td>9.60</td>\n",
       "      <td>26.70</td>\n",
       "      <td>...</td>\n",
       "      <td>145.80</td>\n",
       "      <td>16</td>\n",
       "      <td>0</td>\n",
       "      <td>4</td>\n",
       "      <td>0</td>\n",
       "      <td>12.0</td>\n",
       "      <td>15.0</td>\n",
       "      <td>30.0</td>\n",
       "      <td>24.0</td>\n",
       "      <td>5.0</td>\n",
       "    </tr>\n",
       "  </tbody>\n",
       "</table>\n",
       "<p>5 rows × 22 columns</p>\n",
       "</div>"
      ],
      "text/plain": [
       "       id    loc  v(g)  ev(g)  iv(g)      n        v     l      d      i  ...  \\\n",
       "0  101763   33.0   5.0    1.0    4.0  144.0   824.82  0.04  26.96  30.05  ...   \n",
       "1  101764   27.0   8.0    8.0    2.0  125.0   646.24  0.04  22.82  27.22  ...   \n",
       "2  101765  130.0  11.0    7.0   10.0  545.0  3831.40  0.02  48.15  66.17  ...   \n",
       "3  101766   65.0   7.0    1.0    7.0  156.0   855.71  0.06  17.23  49.89  ...   \n",
       "4  101767   22.0   3.0    1.0    3.0   52.0   238.42  0.10   9.60  26.70  ...   \n",
       "\n",
       "         t  lOCode  lOComment  lOBlank  locCodeAndComment  uniq_Op  uniq_Opnd  \\\n",
       "0  1257.60      30          0        3                  0     21.0       23.0   \n",
       "1   804.58      23          0        2                  0     18.0       19.0   \n",
       "2  6453.34      99          9       17                  1     26.0       53.0   \n",
       "3   896.42      45          8       10                  0     15.0       26.0   \n",
       "4   145.80      16          0        4                  0     12.0       15.0   \n",
       "\n",
       "   total_Op  total_Opnd  branchCount  \n",
       "0      87.0        57.0          9.0  \n",
       "1      70.0        49.0         15.0  \n",
       "2     333.0       244.0         21.0  \n",
       "3      88.0        60.0         13.0  \n",
       "4      30.0        24.0          5.0  \n",
       "\n",
       "[5 rows x 22 columns]"
      ]
     },
     "execution_count": 66,
     "metadata": {},
     "output_type": "execute_result"
    }
   ],
   "source": [
    "test_data.head(5)"
   ]
  },
  {
   "cell_type": "markdown",
   "id": "d6547990-e862-4ff8-9177-ded72f1ad141",
   "metadata": {},
   "source": [
    "### Attribute Information\n",
    "\n",
    "Snippet from https://www.kaggle.com/datasets/semustafacevik/software-defect-prediction\n",
    "\n",
    "```txt\n",
    "loc                McCabe's line count of code \n",
    "v(g)               McCabe \"cyclomatic complexity\" \n",
    "ev(g)              McCabe \"essential complexity\" \n",
    "iv(g)              McCabe \"design complexity\" \n",
    "n                  Halstead total operators + operands \n",
    "v                  Halstead \"volume\" \n",
    "l                  Halstead \"program length\" \n",
    "d                  Halstead \"difficulty\" \n",
    "i                  Halstead \"intelligence\" \n",
    "e                  Halstead \"effort\" \n",
    "b                  Halstead \n",
    "t                  Halstead's time estimator \n",
    "lOCode             Halstead's line count \n",
    "lOComment          Halstead's count of lines of comments \n",
    "lOBlank            Halstead's count of blank lines \n",
    "lOCodeAndComment   \n",
    "uniq_Op            unique operators \n",
    "uniq_Opnd          unique operands \n",
    "total_Op           total operators \n",
    "total_Opnd         total operands \n",
    "branchCount        flow graph \n",
    "defects            module has/has not one or more reported defects \n",
    "```"
   ]
  },
  {
   "cell_type": "code",
   "execution_count": 165,
   "id": "7e59c289-e5bb-402d-80c1-8d99275201df",
   "metadata": {},
   "outputs": [
    {
     "data": {
      "text/plain": [
       "id                     int64\n",
       "loc                  float64\n",
       "v(g)                 float64\n",
       "ev(g)                float64\n",
       "iv(g)                float64\n",
       "n                    float64\n",
       "v                    float64\n",
       "l                    float64\n",
       "d                    float64\n",
       "i                    float64\n",
       "e                    float64\n",
       "b                    float64\n",
       "t                    float64\n",
       "lOCode                 int64\n",
       "lOComment              int64\n",
       "lOBlank                int64\n",
       "locCodeAndComment      int64\n",
       "uniq_Op              float64\n",
       "uniq_Opnd            float64\n",
       "total_Op             float64\n",
       "total_Opnd           float64\n",
       "branchCount          float64\n",
       "defects                 bool\n",
       "dtype: object"
      ]
     },
     "execution_count": 165,
     "metadata": {},
     "output_type": "execute_result"
    }
   ],
   "source": [
    "train_data.dtypes"
   ]
  },
  {
   "cell_type": "code",
   "execution_count": 67,
   "id": "681a446c-b566-4d09-8a41-c54da7511366",
   "metadata": {},
   "outputs": [
    {
     "name": "stdout",
     "output_type": "stream",
     "text": [
      "Numerical columns:\n",
      " Index(['id', 'loc', 'v(g)', 'ev(g)', 'iv(g)', 'n', 'v', 'l', 'd', 'i', 'e',\n",
      "       'b', 't', 'lOCode', 'lOComment', 'lOBlank', 'locCodeAndComment',\n",
      "       'uniq_Op', 'uniq_Opnd', 'total_Op', 'total_Opnd', 'branchCount',\n",
      "       'defects'],\n",
      "      dtype='object')\n"
     ]
    }
   ],
   "source": [
    "num_cols = train_data.select_dtypes(exclude='object')\n",
    "print('Numerical columns:\\n', num_cols.columns)"
   ]
  },
  {
   "cell_type": "code",
   "execution_count": 68,
   "id": "eacc5791-892f-4f67-be3f-f4631bba1ad7",
   "metadata": {},
   "outputs": [
    {
     "name": "stdout",
     "output_type": "stream",
     "text": [
      "Categorical columns:\n",
      " Index(['defects'], dtype='object')\n"
     ]
    }
   ],
   "source": [
    "cat_cols = train_data.select_dtypes(exclude=['int64', 'float64'])\n",
    "print('Categorical columns:\\n', cat_cols.columns)"
   ]
  },
  {
   "cell_type": "code",
   "execution_count": 69,
   "id": "3fb986dd-dc1f-4b0d-9233-1c5739548d42",
   "metadata": {},
   "outputs": [
    {
     "name": "stdout",
     "output_type": "stream",
     "text": [
      "Series([], dtype: int64)\n"
     ]
    }
   ],
   "source": [
    "missing_counts = train_data.isnull().sum()\n",
    "missing_counts = missing_counts[missing_counts > 0].sort_values(ascending=False)\n",
    "print(missing_counts)"
   ]
  },
  {
   "cell_type": "code",
   "execution_count": 70,
   "id": "67288f6e-2e99-4059-93b4-1852afd924ec",
   "metadata": {},
   "outputs": [
    {
     "name": "stdout",
     "output_type": "stream",
     "text": [
      "defects\n",
      "False    78699\n",
      "True     23064\n",
      "Name: count, dtype: int64\n"
     ]
    }
   ],
   "source": [
    "print(train_data['defects'].value_counts())"
   ]
  },
  {
   "cell_type": "code",
   "execution_count": 71,
   "id": "a292dbef-e2de-4d72-afc3-1dbae6eb46ea",
   "metadata": {},
   "outputs": [
    {
     "name": "stdout",
     "output_type": "stream",
     "text": [
      "                    defects\n",
      "l                 -0.253237\n",
      "id                 0.001976\n",
      "e                  0.095366\n",
      "t                  0.099592\n",
      "locCodeAndComment  0.133150\n",
      "uniq_Op            0.178474\n",
      "lOComment          0.205402\n",
      "i                  0.208577\n",
      "v                  0.231179\n",
      "b                  0.232594\n",
      "d                  0.241936\n",
      "iv(g)              0.245618\n",
      "uniq_Opnd          0.246113\n",
      "total_Op           0.250533\n",
      "lOCode             0.250604\n",
      "total_Opnd         0.252752\n",
      "lOBlank            0.257819\n",
      "n                  0.258080\n",
      "ev(g)              0.259928\n",
      "v(g)               0.301187\n",
      "branchCount        0.322827\n",
      "loc                0.342642\n",
      "defects            1.000000\n"
     ]
    }
   ],
   "source": [
    "corr = train_data.corr()\n",
    "print(corr[['defects']].sort_values(by=['defects']))"
   ]
  },
  {
   "cell_type": "markdown",
   "id": "d5c6e3a8-8233-47ee-984e-9ca1c644cb80",
   "metadata": {},
   "source": [
    "## Prepare Training/Validation Data"
   ]
  },
  {
   "cell_type": "code",
   "execution_count": 276,
   "id": "4bfb0374-ff52-4722-a456-8a563d6be329",
   "metadata": {},
   "outputs": [],
   "source": [
    "X = train_data.dropna(axis=0, subset=['id', 'defects'])\n",
    "y = train_data['defects']"
   ]
  },
  {
   "cell_type": "code",
   "execution_count": 277,
   "id": "81d29482-aa81-4912-b6ad-02360968e51b",
   "metadata": {},
   "outputs": [
    {
     "name": "stdout",
     "output_type": "stream",
     "text": [
      "(101763, 20)\n"
     ]
    }
   ],
   "source": [
    "features = [\n",
    "    'loc', \n",
    "    'v(g)', \n",
    "    'ev(g)', \n",
    "    'iv(g)', \n",
    "    'n', \n",
    "    'v', \n",
    "    # 'l', \n",
    "    'd', \n",
    "    'i', \n",
    "    'e',\n",
    "    'b', \n",
    "    't', \n",
    "    'lOCode', \n",
    "    'lOComment', \n",
    "    'lOBlank', \n",
    "    'locCodeAndComment',\n",
    "    'uniq_Op', \n",
    "    'uniq_Opnd', \n",
    "    'total_Op', \n",
    "    'total_Opnd', \n",
    "    'branchCount',\n",
    "]\n",
    "\n",
    "X = X[features]\n",
    "\n",
    "print(X.shape)"
   ]
  },
  {
   "cell_type": "code",
   "execution_count": 278,
   "id": "0684167a-31e7-4cb2-a15d-aee96fff1544",
   "metadata": {},
   "outputs": [
    {
     "name": "stdout",
     "output_type": "stream",
     "text": [
      "train: X = (81410, 20) , y= (81410,)\n",
      "valid: X = (20353, 20) , y= (20353,)\n"
     ]
    }
   ],
   "source": [
    "X_train, X_valid, y_train, y_valid = train_test_split(X, y, train_size=0.8, random_state=RANDOM_SEED, stratify=y)\n",
    "\n",
    "print('train:', 'X =', X_train.shape, ', y=', y_train.shape)\n",
    "print('valid:', 'X =', X_valid.shape, ', y=', y_valid.shape)"
   ]
  },
  {
   "cell_type": "markdown",
   "id": "c4ebd1a4-b2c1-443d-a5c3-7cecdb6dd720",
   "metadata": {},
   "source": [
    "## XGB Classifier"
   ]
  },
  {
   "cell_type": "code",
   "execution_count": 280,
   "id": "58a3c59e-5119-4945-822a-c178a3f47a57",
   "metadata": {},
   "outputs": [
    {
     "name": "stdout",
     "output_type": "stream",
     "text": [
      "Accuracy: 0.8145727902520513\n",
      "Precision score: 0.3843485800997182\n",
      "F1 score: 0.48442622950819675\n",
      "Recall score: 0.6549685999261174\n",
      "ROC AUC score: 0.7470128050066946\n"
     ]
    }
   ],
   "source": [
    "model = xgboost.XGBClassifier(random_state=RANDOM_SEED, max_depth=5, n_estimators=200, learning_rate=0.025)\n",
    "model.fit(X_train, y_train)\n",
    "y_valid_preds = model.predict(X_valid)\n",
    "\n",
    "print('Accuracy:', accuracy_score(y_valid_preds, y_valid))\n",
    "print('Precision score:', precision_score(y_valid_preds, y_valid))\n",
    "print('F1 score:', f1_score(y_valid_preds, y_valid))\n",
    "print('Recall score:', recall_score(y_valid_preds, y_valid))\n",
    "print('ROC AUC score:', roc_auc_score(y_valid_preds, y_valid))"
   ]
  },
  {
   "cell_type": "code",
   "execution_count": 281,
   "id": "e5cacc78-0b79-4c9e-9b68-0f0a0bb6e85a",
   "metadata": {},
   "outputs": [
    {
     "data": {
      "text/plain": [
       "<Axes: title={'center': 'Feature importance'}, xlabel='F score', ylabel='Features'>"
      ]
     },
     "execution_count": 281,
     "metadata": {},
     "output_type": "execute_result"
    },
    {
     "data": {
      "image/png": "[encoded data removed]",
      "text/plain": [
       "<Figure size 640x480 with 1 Axes>"
      ]
     },
     "metadata": {},
     "output_type": "display_data"
    }
   ],
   "source": [
    "xgboost.plot_importance(model)"
   ]
  },
  {
   "cell_type": "markdown",
   "id": "5d18c670-f592-46a7-b37d-41234cb938c5",
   "metadata": {},
   "source": [
    "## Decision Tree Classifier"
   ]
  },
  {
   "cell_type": "code",
   "execution_count": 282,
   "id": "b286dfcf-ecf4-457c-afa5-a64b0176406d",
   "metadata": {},
   "outputs": [
    {
     "name": "stdout",
     "output_type": "stream",
     "text": [
      "Accuracy: 0.7204834668107896\n",
      "Precision score: 0.4140472577498374\n",
      "F1 score: 0.4017246818803239\n",
      "Recall score: 0.3901143790849673\n",
      "ROC AUC score: 0.6076210764545623\n"
     ]
    }
   ],
   "source": [
    "model = DecisionTreeClassifier(random_state=RANDOM_SEED, max_depth=50)\n",
    "model.fit(X_train, y_train)\n",
    "y_valid_preds = model.predict(X_valid)\n",
    "\n",
    "print('Accuracy:', accuracy_score(y_valid_preds, y_valid))\n",
    "print('Precision score:', precision_score(y_valid_preds, y_valid))\n",
    "print('F1 score:', f1_score(y_valid_preds, y_valid))\n",
    "print('Recall score:', recall_score(y_valid_preds, y_valid))\n",
    "print('ROC AUC score:', roc_auc_score(y_valid_preds, y_valid))"
   ]
  },
  {
   "cell_type": "markdown",
   "id": "47cc2493-6063-4d14-8a52-8f9e804cfe8d",
   "metadata": {},
   "source": [
    "## Random Forest Classifier"
   ]
  },
  {
   "cell_type": "code",
   "execution_count": 283,
   "id": "972cb36e-6361-4a3f-af36-59e9c79fa78e",
   "metadata": {},
   "outputs": [
    {
     "name": "stdout",
     "output_type": "stream",
     "text": [
      "Accuracy: 0.8143271262221785\n",
      "Precision score: 0.37784522003034904\n",
      "F1 score: 0.4798348245010323\n",
      "Recall score: 0.6572398190045249\n",
      "ROC AUC score: 0.747551043336509\n"
     ]
    }
   ],
   "source": [
    "model = RandomForestClassifier(random_state=RANDOM_SEED, n_jobs=2, max_depth=10, n_estimators=200)\n",
    "model.fit(X_train, y_train)\n",
    "y_valid_preds = model.predict(X_valid)\n",
    "\n",
    "print('Accuracy:', accuracy_score(y_valid_preds, y_valid))\n",
    "print('Precision score:', precision_score(y_valid_preds, y_valid))\n",
    "print('F1 score:', f1_score(y_valid_preds, y_valid))\n",
    "print('Recall score:', recall_score(y_valid_preds, y_valid))\n",
    "print('ROC AUC score:', roc_auc_score(y_valid_preds, y_valid))"
   ]
  },
  {
   "cell_type": "markdown",
   "id": "1cb585e2-72cd-476d-aa4b-8e23c49abbe2",
   "metadata": {},
   "source": [
    "## Submission"
   ]
  },
  {
   "cell_type": "code",
   "execution_count": 284,
   "id": "4333690f-8a40-466f-8cc8-3f020757589e",
   "metadata": {},
   "outputs": [],
   "source": [
    "model = xgboost.XGBClassifier(random_state=RANDOM_SEED, max_depth=5, n_estimators=200, learning_rate=0.025)\n",
    "model.fit(X_train, y_train)\n",
    "y_valid_preds = model.predict(X_valid)\n",
    "\n",
    "X_test = test_data[features]\n",
    "y_test_preds = model.predict(X_test)"
   ]
  },
  {
   "cell_type": "code",
   "execution_count": 285,
   "id": "35ae7e58-62fe-4138-bb7a-a98a649bd14b",
   "metadata": {},
   "outputs": [
    {
     "name": "stdout",
     "output_type": "stream",
     "text": [
      "[[0.7609341  0.2390659 ]\n",
      " [0.801487   0.19851299]\n",
      " [0.31588095 0.68411905]\n",
      " ...\n",
      " [0.83409137 0.16590863]\n",
      " [0.89728814 0.10271186]\n",
      " [0.22017789 0.7798221 ]]\n"
     ]
    }
   ],
   "source": [
    "probs = model.predict_proba(X_test)\n",
    "print(probs)"
   ]
  },
  {
   "cell_type": "code",
   "execution_count": 286,
   "id": "d4b9fc8f-2a87-4e62-87f7-762479be9abf",
   "metadata": {},
   "outputs": [],
   "source": [
    "submission = pd.DataFrame({'id': test_data['id'], 'defects': probs[:,1]})\n",
    "submission.to_csv('submission.csv', index=False)"
   ]
  },
  {
   "cell_type": "code",
   "execution_count": null,
   "id": "f6948131-77f6-44d3-bd1a-5efcfc6e3d60",
   "metadata": {},
   "outputs": [],
   "source": []
  }
 ],
 "metadata": {
  "kernelspec": {
   "display_name": "Python 3 (ipykernel)",
   "language": "python",
   "name": "python3"
  },
  "language_info": {
   "codemirror_mode": {
    "name": "ipython",
    "version": 3
   },
   "file_extension": ".py",
   "mimetype": "text/x-python",
   "name": "python",
   "nbconvert_exporter": "python",
   "pygments_lexer": "ipython3",
   "version": "3.10.12"
  }
 },
 "nbformat": 4,
 "nbformat_minor": 5
}
