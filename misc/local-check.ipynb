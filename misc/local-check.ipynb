{
 "cells": [
  {
   "cell_type": "markdown",
   "id": "798cbd9e-a17d-474d-8b7c-7e36e6c222b2",
   "metadata": {},
   "source": [
    "# local-check\n",
    "\n",
    "Sanity check for local environment"
   ]
  },
  {
   "cell_type": "code",
   "execution_count": 5,
   "id": "df4a20ee-2c85-4e51-b0c5-17b70075bb81",
   "metadata": {
    "tags": []
   },
   "outputs": [
    {
     "name": "stdout",
     "output_type": "stream",
     "text": [
      "Sun Oct  1 22:51:16 2023       \n",
      "+---------------------------------------------------------------------------------------+\n",
      "| NVIDIA-SMI 537.42                 Driver Version: 537.42       CUDA Version: 12.2     |\n",
      "|-----------------------------------------+----------------------+----------------------+\n",
      "| GPU  Name                     TCC/WDDM  | Bus-Id        Disp.A | Volatile Uncorr. ECC |\n",
      "| Fan  Temp   Perf          Pwr:Usage/Cap |         Memory-Usage | GPU-Util  Compute M. |\n",
      "|                                         |                      |               MIG M. |\n",
      "|=========================================+======================+======================|\n",
      "|   0  NVIDIA GeForce GT 1030       WDDM  | 00000000:05:00.0  On |                  N/A |\n",
      "| 36%   36C    P8              N/A /  19W |    561MiB /  2048MiB |      0%      Default |\n",
      "|                                         |                      |                  N/A |\n",
      "+-----------------------------------------+----------------------+----------------------+\n",
      "|   1  NVIDIA GeForce RTX 3090 Ti   WDDM  | 00000000:0C:00.0  On |                  Off |\n",
      "|  0%   42C    P8              30W / 450W |   3566MiB / 24564MiB |      8%      Default |\n",
      "|                                         |                      |                  N/A |\n",
      "+-----------------------------------------+----------------------+----------------------+\n",
      "                                                                                         \n",
      "+---------------------------------------------------------------------------------------+\n",
      "| Processes:                                                                            |\n",
      "|  GPU   GI   CI        PID   Type   Process name                            GPU Memory |\n"
     ]
    }
   ],
   "source": [
    "!nvidia-smi | head -n 20"
   ]
  },
  {
   "cell_type": "code",
   "execution_count": 7,
   "id": "23d7fe17-4478-4f93-9a6f-1655b1ba71a2",
   "metadata": {},
   "outputs": [
    {
     "name": "stdout",
     "output_type": "stream",
     "text": [
      "2.0.1\n",
      "cuda\n",
      "2 GPU(s)\n"
     ]
    }
   ],
   "source": [
    "import torch\n",
    "\n",
    "print(torch.__version__)\n",
    "\n",
    "device = 'cuda' if torch.cuda.is_available() else 'cpu'\n",
    "print(device)\n",
    "\n",
    "print(torch.cuda.device_count(), 'GPU(s)')"
   ]
  },
  {
   "cell_type": "code",
   "execution_count": 9,
   "id": "ac18bf3c-5caa-4e35-87ee-98845a6bef06",
   "metadata": {},
   "outputs": [
    {
     "data": {
      "text/plain": [
       "tensor([[ 0.8381, -0.1421,  0.2716],\n",
       "        [-0.0846,  0.7122,  0.2860],\n",
       "        [ 1.4305,  1.1774,  1.9766]], device='cuda:0')"
      ]
     },
     "execution_count": 9,
     "metadata": {},
     "output_type": "execute_result"
    }
   ],
   "source": [
    "torch.randn(3,3).to(device)"
   ]
  }
 ],
 "metadata": {
  "kernelspec": {
   "display_name": "Python 3 (ipykernel)",
   "language": "python",
   "name": "python3"
  },
  "language_info": {
   "codemirror_mode": {
    "name": "ipython",
    "version": 3
   },
   "file_extension": ".py",
   "mimetype": "text/x-python",
   "name": "python",
   "nbconvert_exporter": "python",
   "pygments_lexer": "ipython3",
   "version": "3.10.12"
  }
 },
 "nbformat": 4,
 "nbformat_minor": 5
}
