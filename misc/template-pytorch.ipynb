{
 "cells": [
  {
   "cell_type": "markdown",
   "id": "f9d98695-62c2-459b-9205-809110f42bd5",
   "metadata": {},
   "source": [
    "# TEMPLATE\n",
    "\n",
    "https://www.kaggle.com/competitions/TEMPLATE"
   ]
  },
  {
   "cell_type": "markdown",
   "id": "e82bb1bd-115d-4441-92ed-b69d2eda69d2",
   "metadata": {},
   "source": [
    "## Setup"
   ]
  },
  {
   "cell_type": "code",
   "execution_count": null,
   "id": "0abdc0cc-9e8f-4b5d-92f0-b28b2355f4ee",
   "metadata": {},
   "outputs": [],
   "source": [
    "import os\n",
    "import glob\n",
    "from pathlib import Path\n",
    "import random\n",
    "from PIL import Image\n",
    "\n",
    "import warnings\n",
    "warnings.filterwarnings('ignore')\n",
    "\n",
    "import numpy as np\n",
    "import pandas as pd\n",
    "import matplotlib.pyplot as plt\n",
    "import seaborn as sns\n",
    "\n",
    "%matplotlib inline\n",
    "\n",
    "from sklearn.model_selection import train_test_split\n",
    "\n",
    "import torch\n",
    "import torch.nn as nn\n",
    "import torch.nn.functional as F\n",
    "from torch import optim\n",
    "\n",
    "import torchvision\n",
    "import torchvision.models as models\n",
    "import torchvision.datasets as datasets\n",
    "import torchvision.transforms as transforms\n",
    "from torch.utils.data import Dataset, DataLoader\n",
    "\n",
    "import torchinfo"
   ]
  },
  {
   "cell_type": "code",
   "execution_count": null,
   "id": "4de3a577-c78c-4bb2-bdfd-66d327b43cb6",
   "metadata": {},
   "outputs": [],
   "source": [
    "IS_KAGGLE = os.environ.get('KAGGLE_KERNEL_RUN_TYPE', '')\n",
    "\n",
    "COMP_NAME = None\n",
    "if COMP_NAME is None:\n",
    "    raise NameError('COMP_NAME has not been initialized')\n",
    "\n",
    "DATA_PATH = Path('../input/' + COMP_NAME) if IS_KAGGLE else Path('./data')\n",
    "\n",
    "RANDOM_SEED = 42\n",
    "BATCH_SIZE = 100\n",
    "\n",
    "DEVICE = 'cuda' if torch.cuda.is_available() else 'cpu'"
   ]
  },
  {
   "cell_type": "code",
   "execution_count": null,
   "id": "1dc3800c-7b04-4d67-b9e5-185a8b00b207",
   "metadata": {},
   "outputs": [],
   "source": [
    "print('kaggle:', 'Y' if IS_KAGGLE else 'N')\n",
    "print('torch version:', torch.__version__)\n",
    "print('device:', DEVICE)\n",
    "print(torch.cuda.device_count(), 'GPU(s) available')"
   ]
  },
  {
   "cell_type": "code",
   "execution_count": null,
   "id": "378f376a-8ede-4539-9eb2-2d1db6af2323",
   "metadata": {},
   "outputs": [],
   "source": [
    "# reproducibility\n",
    "\n",
    "random.seed(RANDOM_SEED)\n",
    "np.random.seed(RANDOM_SEED)\n",
    "\n",
    "torch.manual_seed(RANDOM_SEED)\n",
    "torch.cuda.manual_seed_all(RANDOM_SEED)\n",
    "\n",
    "torch.backends.cudnn.deterministic = True\n",
    "torch.backends.cudnn.benchmark = False"
   ]
  },
  {
   "cell_type": "markdown",
   "id": "c86f9a94-a0a4-4cbb-8968-89ba8f903bc9",
   "metadata": {},
   "source": [
    "## Load Data"
   ]
  },
  {
   "cell_type": "code",
   "execution_count": null,
   "id": "8e6e5fff-683d-4970-ba15-456dcdd3f809",
   "metadata": {},
   "outputs": [],
   "source": [
    "path = Path('./data')\n",
    "if not DATA_PATH.exists():\n",
    "    import zipfile, kaggle\n",
    "    kaggle.api.competition_download_cli(COMP_NAME)\n",
    "    zipfile.ZipFile(f'{COMP_NAME}.zip').extractall(DATA_PATH)"
   ]
  },
  {
   "cell_type": "code",
   "execution_count": null,
   "id": "415d2f48-a246-4e88-bf5a-9603893f0254",
   "metadata": {},
   "outputs": [],
   "source": []
  },
  {
   "cell_type": "markdown",
   "id": "8e5b7e11-dfcb-458e-b8d1-fba92463a35b",
   "metadata": {},
   "source": [
    "## Data Exploration"
   ]
  },
  {
   "cell_type": "code",
   "execution_count": null,
   "id": "1f87e1a0-0e1a-4de2-8365-ed02a927ac3a",
   "metadata": {},
   "outputs": [],
   "source": []
  },
  {
   "cell_type": "markdown",
   "id": "d5c6e3a8-8233-47ee-984e-9ca1c644cb80",
   "metadata": {},
   "source": [
    "## Prepare Training/Validation Data"
   ]
  },
  {
   "cell_type": "code",
   "execution_count": null,
   "id": "4bfb0374-ff52-4722-a456-8a563d6be329",
   "metadata": {},
   "outputs": [],
   "source": []
  },
  {
   "cell_type": "markdown",
   "id": "5d18c670-f592-46a7-b37d-41234cb938c5",
   "metadata": {},
   "source": [
    "## Build Model"
   ]
  },
  {
   "cell_type": "code",
   "execution_count": null,
   "id": "f914dfc9-a18a-4db2-893a-294edfd95943",
   "metadata": {},
   "outputs": [],
   "source": []
  },
  {
   "cell_type": "markdown",
   "id": "f213762a-238d-4dee-b5fe-594fda16e902",
   "metadata": {},
   "source": [
    "## Train Model"
   ]
  },
  {
   "cell_type": "code",
   "execution_count": null,
   "id": "a9abe13d-1e42-47b5-821d-7eae1e32a02b",
   "metadata": {},
   "outputs": [],
   "source": []
  },
  {
   "cell_type": "markdown",
   "id": "1cb585e2-72cd-476d-aa4b-8e23c49abbe2",
   "metadata": {},
   "source": [
    "## Submission"
   ]
  },
  {
   "cell_type": "code",
   "execution_count": null,
   "id": "d4b9fc8f-2a87-4e62-87f7-762479be9abf",
   "metadata": {},
   "outputs": [],
   "source": []
  }
 ],
 "metadata": {
  "kernelspec": {
   "display_name": "Python 3 (ipykernel)",
   "language": "python",
   "name": "python3"
  },
  "language_info": {
   "codemirror_mode": {
    "name": "ipython",
    "version": 3
   },
   "file_extension": ".py",
   "mimetype": "text/x-python",
   "name": "python",
   "nbconvert_exporter": "python",
   "pygments_lexer": "ipython3",
   "version": "3.10.12"
  }
 },
 "nbformat": 4,
 "nbformat_minor": 5
}
