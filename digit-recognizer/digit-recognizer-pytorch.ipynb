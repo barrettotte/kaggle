{
 "cells": [
  {
   "cell_type": "markdown",
   "metadata": {
    "_cell_guid": "b1076dfc-b9ad-4769-8c92-a6c4dae69d19",
    "_uuid": "8f2839f25d086af736a60e9eeb907d3b93b6e0e5"
   },
   "source": [
    "# digit-recognizer\n",
    "\n",
    "https://www.kaggle.com/competitions/digit-recognizer"
   ]
  },
  {
   "cell_type": "markdown",
   "metadata": {},
   "source": [
    "## Setup"
   ]
  },
  {
   "cell_type": "code",
   "execution_count": 1,
   "metadata": {},
   "outputs": [],
   "source": [
    "import os\n",
    "from pathlib import Path\n",
    "import random\n",
    "\n",
    "import numpy as np\n",
    "import pandas as pd\n",
    "import matplotlib.pyplot as plt\n",
    "import seaborn as sns\n",
    "\n",
    "%matplotlib inline\n",
    "\n",
    "from sklearn.model_selection import train_test_split\n",
    "\n",
    "import torch\n",
    "import torch.nn as nn\n",
    "import torch.nn.functional as F\n",
    "from torch import optim\n",
    "from torch.autograd import Variable\n",
    "\n",
    "import torchinfo"
   ]
  },
  {
   "cell_type": "code",
   "execution_count": 2,
   "metadata": {},
   "outputs": [],
   "source": [
    "IS_KAGGLE = os.environ.get('KAGGLE_KERNEL_RUN_TYPE', '')\n",
    "COMP_NAME = 'digit-recognizer'\n",
    "\n",
    "if COMP_NAME is None:\n",
    "    raise NameError('COMP_NAME has not been initialized')\n",
    "\n",
    "RANDOM_SEED = 42\n",
    "\n",
    "random.seed(RANDOM_SEED)\n",
    "np.random.seed(RANDOM_SEED)\n",
    "torch.manual_seed(RANDOM_SEED)\n",
    "torch.cuda.manual_seed_all(RANDOM_SEED)\n",
    "\n",
    "BATCH_SIZE = 100\n",
    "\n",
    "DATA_PATH = Path('../input/' + COMP_NAME) if IS_KAGGLE else Path('./data')\n",
    "\n",
    "DEVICE = 'cuda:0' if torch.cuda.is_available() else 'cpu'"
   ]
  },
  {
   "cell_type": "code",
   "execution_count": 3,
   "metadata": {},
   "outputs": [
    {
     "name": "stdout",
     "output_type": "stream",
     "text": [
      "kaggle: N\n",
      "torch version: 2.0.1\n",
      "device: cuda:0\n",
      "2 GPU(s) available\n"
     ]
    }
   ],
   "source": [
    "print('kaggle:', 'Y' if IS_KAGGLE else 'N')\n",
    "print('torch version:', torch.__version__)\n",
    "print('device:', DEVICE)\n",
    "print(torch.cuda.device_count(), 'GPU(s) available')"
   ]
  },
  {
   "cell_type": "markdown",
   "metadata": {},
   "source": [
    "## Load Data\n",
    "\n",
    "https://www.kaggle.com/competitions/digit-recognizer/data"
   ]
  },
  {
   "cell_type": "code",
   "execution_count": 4,
   "metadata": {},
   "outputs": [],
   "source": [
    "path = Path('./data')\n",
    "if not DATA_PATH.exists():\n",
    "    import zipfile, kaggle\n",
    "    kaggle.api.competition_download_cli(COMP_NAME)\n",
    "    zipfile.ZipFile(f'{COMP_NAME}.zip').extractall(DATA_PATH)"
   ]
  },
  {
   "cell_type": "code",
   "execution_count": 5,
   "metadata": {},
   "outputs": [
    {
     "name": "stdout",
     "output_type": "stream",
     "text": [
      "train: (42000, 785)\n",
      "test:  (28000, 784)\n"
     ]
    }
   ],
   "source": [
    "train_data = pd.read_csv(DATA_PATH / 'train.csv')\n",
    "test_data = pd.read_csv(DATA_PATH / 'test.csv')\n",
    "\n",
    "print('train:', train_data.shape)\n",
    "print('test: ', test_data.shape)"
   ]
  },
  {
   "cell_type": "code",
   "execution_count": 6,
   "metadata": {},
   "outputs": [
    {
     "name": "stdout",
     "output_type": "stream",
     "text": [
      "X: (42000, 784) <class 'pandas.core.frame.DataFrame'>\n",
      "y: (42000,) <class 'numpy.ndarray'>\n"
     ]
    }
   ],
   "source": [
    "X = train_data.iloc[:, train_data.columns != 'label']\n",
    "y = train_data.label.values\n",
    "\n",
    "print('X:', X.shape, type(X))\n",
    "print('y:', y.shape, type(y))"
   ]
  },
  {
   "cell_type": "markdown",
   "metadata": {},
   "source": [
    "## Data Exploration"
   ]
  },
  {
   "cell_type": "code",
   "execution_count": 7,
   "metadata": {},
   "outputs": [
    {
     "data": {
      "image/png": "[encoded data removed]",
      "text/plain": [
       "<Figure size 800x800 with 9 Axes>"
      ]
     },
     "metadata": {},
     "output_type": "display_data"
    }
   ],
   "source": [
    "figure = plt.figure(figsize=(8,8))\n",
    "cols, rows = 3, 3\n",
    "\n",
    "for i in range(1, cols * rows + 1):\n",
    "    sample = random.randint(0, len(X)-1)\n",
    "    label = str(int(y[sample]))\n",
    "    img = X.values[sample].reshape(28,28)\n",
    "    \n",
    "    figure.add_subplot(rows, cols, i)\n",
    "    plt.title(label)\n",
    "    plt.axis('off')\n",
    "    plt.imshow(img, cmap='gray')\n",
    "\n",
    "plt.show()"
   ]
  },
  {
   "cell_type": "code",
   "execution_count": 8,
   "metadata": {},
   "outputs": [
    {
     "data": {
      "text/plain": [
       "label\n",
       "1    4684\n",
       "7    4401\n",
       "3    4351\n",
       "9    4188\n",
       "2    4177\n",
       "6    4137\n",
       "0    4132\n",
       "4    4072\n",
       "8    4063\n",
       "5    3795\n",
       "Name: count, dtype: int64"
      ]
     },
     "execution_count": 8,
     "metadata": {},
     "output_type": "execute_result"
    }
   ],
   "source": [
    "train_data['label'].value_counts()"
   ]
  },
  {
   "cell_type": "markdown",
   "metadata": {},
   "source": [
    "## Prepare Training/Validation Data"
   ]
  },
  {
   "cell_type": "code",
   "execution_count": 9,
   "metadata": {},
   "outputs": [
    {
     "name": "stdout",
     "output_type": "stream",
     "text": [
      "X_train: (33600, 784) y_train: (33600,)\n",
      "X_valid: (8400, 784) y_valid: (8400,)\n"
     ]
    }
   ],
   "source": [
    "X_train, X_valid, y_train, y_valid = train_test_split(X, y, test_size=0.2, random_state=RANDOM_SEED)\n",
    "\n",
    "print('X_train:', X_train.shape, 'y_train:', y_train.shape)\n",
    "print('X_valid:', X_valid.shape, 'y_valid:', y_valid.shape)"
   ]
  },
  {
   "cell_type": "code",
   "execution_count": 10,
   "metadata": {},
   "outputs": [],
   "source": [
    "# normalize (0-255 -> 0-1)\n",
    "\n",
    "X_train = X_train.values / 255\n",
    "X_valid = X_valid.values / 255"
   ]
  },
  {
   "cell_type": "code",
   "execution_count": 11,
   "metadata": {},
   "outputs": [
    {
     "name": "stdout",
     "output_type": "stream",
     "text": [
      "X_train.dtype: torch.float64\n",
      "y_train.dtype: torch.int64\n"
     ]
    }
   ],
   "source": [
    "X_train = torch.from_numpy(X_train)\n",
    "y_train = torch.from_numpy(y_train).type(torch.LongTensor)\n",
    "\n",
    "X_valid = torch.from_numpy(X_valid)\n",
    "y_valid = torch.from_numpy(y_valid).type(torch.LongTensor)\n",
    "\n",
    "print('X_train.dtype:', X_train.dtype)\n",
    "print('y_train.dtype:', y_train.dtype)"
   ]
  },
  {
   "cell_type": "code",
   "execution_count": 12,
   "metadata": {},
   "outputs": [],
   "source": [
    "train_ds = torch.utils.data.TensorDataset(X_train, y_train)\n",
    "valid_ds = torch.utils.data.TensorDataset(X_valid, y_valid)\n",
    "\n",
    "train_loader = torch.utils.data.DataLoader(train_ds, batch_size=BATCH_SIZE, shuffle=True)\n",
    "valid_loader = torch.utils.data.DataLoader(valid_ds, batch_size=BATCH_SIZE, shuffle=False)"
   ]
  },
  {
   "cell_type": "markdown",
   "metadata": {},
   "source": [
    "## Build Model"
   ]
  },
  {
   "cell_type": "code",
   "execution_count": 13,
   "metadata": {},
   "outputs": [],
   "source": [
    "class DigitRecognizerModel(nn.Module):\n",
    "    \"\"\"\n",
    "    Architecture summary:\n",
    "      - Layer 1: Convolution 1 > Activation (ReLU) > Pooling 1 > Dropout 1\n",
    "      - Layer 2: Convolution 2 > Activation (ReLU) > Pooling 2 > Dropout 2 > Flatten\n",
    "      - Layer 3: Linear 1 > Activation (ReLU) > Dropout 3\n",
    "      - Layer 4: Linear 2 > Activation (ReLU) > Dropout 4\n",
    "      - Layer 5: Output > Activation (Softmax)\n",
    "    \"\"\"\n",
    "    \n",
    "    def __init__(self):\n",
    "        super().__init__()\n",
    "\n",
    "        # layer 1 \n",
    "        # (black and white image, 1 color channel == 1 input channel)\n",
    "        self.conv1 = nn.Conv2d(in_channels=1, out_channels=128, kernel_size=5, stride=1, padding=0)\n",
    "        self.pool1 = nn.MaxPool2d(kernel_size=(2, 2))\n",
    "        self.drop1 = nn.Dropout(p=0.3)\n",
    "\n",
    "        # layer 2\n",
    "        self.conv2 = nn.Conv2d(in_channels=128, out_channels=224, kernel_size=5, stride=1, padding=0)\n",
    "        self.pool2 = nn.MaxPool2d(kernel_size=(2, 2))\n",
    "        self.drop2 = nn.Dropout(p=0.4)\n",
    "\n",
    "        # layer 3\n",
    "        self.linear1 = nn.Linear(in_features=224 * 4 * 4, out_features=64)\n",
    "        self.drop3 = nn.Dropout(p=0.4)\n",
    "\n",
    "        # layer 4\n",
    "        self.linear2 = nn.Linear(in_features=64, out_features=32)\n",
    "        self.drop4 = nn.Dropout(p=0.4)\n",
    "\n",
    "        # layer 5\n",
    "        self.linear3 = nn.Linear(in_features=32, out_features=10)\n",
    "        # self.softmax = nn.Softmax(dim=1)\n",
    "\n",
    "    def forward(self, x):\n",
    "        out = self.drop1(self.pool1(F.relu(self.conv1(x)))) # layer 1\n",
    "        out = self.drop2(self.pool2(F.relu(self.conv2(out)))) # layer 2\n",
    "        out = out.view(-1, 224 * 4 * 4) # flatten layer 2 outputs since layer 3 is linear\n",
    "        \n",
    "        out = self.drop3(F.relu(self.linear1(out))) # layer 3\n",
    "        out = self.drop4(F.relu(self.linear2(out))) # layer 4\n",
    "        # out = self.softmax(self.linear3(out)) # layer 5\n",
    "        out = self.linear3(out) # logits\n",
    "        return out"
   ]
  },
  {
   "cell_type": "code",
   "execution_count": 14,
   "metadata": {},
   "outputs": [
    {
     "name": "stdout",
     "output_type": "stream",
     "text": [
      "DigitRecognizerModel(\n",
      "  (conv1): Conv2d(1, 128, kernel_size=(5, 5), stride=(1, 1))\n",
      "  (pool1): MaxPool2d(kernel_size=(2, 2), stride=(2, 2), padding=0, dilation=1, ceil_mode=False)\n",
      "  (drop1): Dropout(p=0.3, inplace=False)\n",
      "  (conv2): Conv2d(128, 224, kernel_size=(5, 5), stride=(1, 1))\n",
      "  (pool2): MaxPool2d(kernel_size=(2, 2), stride=(2, 2), padding=0, dilation=1, ceil_mode=False)\n",
      "  (drop2): Dropout(p=0.4, inplace=False)\n",
      "  (linear1): Linear(in_features=3584, out_features=64, bias=True)\n",
      "  (drop3): Dropout(p=0.4, inplace=False)\n",
      "  (linear2): Linear(in_features=64, out_features=32, bias=True)\n",
      "  (drop4): Dropout(p=0.4, inplace=False)\n",
      "  (linear3): Linear(in_features=32, out_features=10, bias=True)\n",
      ")\n"
     ]
    }
   ],
   "source": [
    "model = DigitRecognizerModel().to(DEVICE)\n",
    "\n",
    "loss_fn = nn.CrossEntropyLoss()\n",
    "learning_rate = 0.001\n",
    "optimizer = optim.Adam(model.parameters(), lr=learning_rate)\n",
    "\n",
    "print(model)"
   ]
  },
  {
   "cell_type": "code",
   "execution_count": 15,
   "metadata": {},
   "outputs": [
    {
     "data": {
      "text/plain": [
       "============================================================================================================================================\n",
       "Layer (type:depth-idx)                   Input Shape               Output Shape              Param #                   Kernel Shape\n",
       "============================================================================================================================================\n",
       "DigitRecognizerModel                     [1, 28, 28]               [1, 10]                   --                        --\n",
       "├─Conv2d: 1-1                            [1, 28, 28]               [128, 24, 24]             3,328                     [5, 5]\n",
       "├─MaxPool2d: 1-2                         [128, 24, 24]             [128, 12, 12]             --                        [2, 2]\n",
       "├─Dropout: 1-3                           [128, 12, 12]             [128, 12, 12]             --                        --\n",
       "├─Conv2d: 1-4                            [128, 12, 12]             [224, 8, 8]               717,024                   [5, 5]\n",
       "├─MaxPool2d: 1-5                         [224, 8, 8]               [224, 4, 4]               --                        [2, 2]\n",
       "├─Dropout: 1-6                           [224, 4, 4]               [224, 4, 4]               --                        --\n",
       "├─Linear: 1-7                            [1, 3584]                 [1, 64]                   229,440                   --\n",
       "├─Dropout: 1-8                           [1, 64]                   [1, 64]                   --                        --\n",
       "├─Linear: 1-9                            [1, 64]                   [1, 32]                   2,080                     --\n",
       "├─Dropout: 1-10                          [1, 32]                   [1, 32]                   --                        --\n",
       "├─Linear: 1-11                           [1, 32]                   [1, 10]                   330                       --\n",
       "============================================================================================================================================\n",
       "Total params: 952,202\n",
       "Trainable params: 952,202\n",
       "Non-trainable params: 0\n",
       "Total mult-adds (G): 1.30\n",
       "============================================================================================================================================\n",
       "Input size (MB): 0.00\n",
       "Forward/backward pass size (MB): 0.71\n",
       "Params size (MB): 3.81\n",
       "Estimated Total Size (MB): 4.52\n",
       "============================================================================================================================================"
      ]
     },
     "execution_count": 15,
     "metadata": {},
     "output_type": "execute_result"
    }
   ],
   "source": [
    "torchinfo.summary(model, (1, 28, 28), col_names=('input_size', 'output_size', 'num_params', 'kernel_size'), verbose=0)"
   ]
  },
  {
   "cell_type": "markdown",
   "metadata": {},
   "source": [
    "## Train Model"
   ]
  },
  {
   "cell_type": "code",
   "execution_count": 16,
   "metadata": {},
   "outputs": [],
   "source": [
    "def train_loop(dataloader, model, loss_fn, optimizer, print_every=100):\n",
    "    size = len(dataloader.dataset)\n",
    "    model.train()\n",
    "    \n",
    "    for batch, (X, y) in enumerate(dataloader):\n",
    "        X = (X.view(-1, 1, 28, 28)).type(torch.FloatTensor).to(DEVICE)\n",
    "        y = y.to(DEVICE)\n",
    "\n",
    "        logits = model(X)\n",
    "        loss = loss_fn(logits, y)\n",
    "\n",
    "        # backpropagation\n",
    "        loss.backward()\n",
    "        optimizer.step()\n",
    "        optimizer.zero_grad()\n",
    "\n",
    "        # print results\n",
    "        if batch % print_every == 0:\n",
    "            loss, current = loss.item(), (batch + 1) * len(X)\n",
    "            print(f'loss: {loss:>7f} [{current:>5d}/{size:>5d}]')"
   ]
  },
  {
   "cell_type": "code",
   "execution_count": 17,
   "metadata": {},
   "outputs": [],
   "source": [
    "def valid_loop(dataloader, model, loss_fn, print_every=100):\n",
    "    size = len(dataloader.dataset)\n",
    "    model.eval()\n",
    "    batches = len(dataloader)\n",
    "    loss, correct = 0, 0\n",
    "\n",
    "    with torch.no_grad():\n",
    "        for X, y in dataloader:\n",
    "            X = (X.view(-1, 1, 28, 28)).type(torch.FloatTensor).to(DEVICE)\n",
    "            y = y.to(DEVICE)\n",
    "\n",
    "            logits = model(X)\n",
    "            loss += loss_fn(logits, y).item()\n",
    "            correct += (logits.argmax(1) == y).type(torch.float).sum().item()\n",
    "\n",
    "    loss /= BATCH_SIZE\n",
    "    correct /= size\n",
    "    print(f'Validation: Accuracy={(100*correct):>0.1f}%, Average_Loss={loss:>8f}\\n')"
   ]
  },
  {
   "cell_type": "code",
   "execution_count": 18,
   "metadata": {},
   "outputs": [
    {
     "name": "stdout",
     "output_type": "stream",
     "text": [
      "Epoch 1\n",
      "-------------------------------\n",
      "loss: 2.290158 [  100/33600]\n",
      "loss: 0.779308 [10100/33600]\n",
      "loss: 0.512162 [20100/33600]\n",
      "loss: 0.319611 [30100/33600]\n",
      "Validation: Accuracy=96.8%, Average_Loss=0.101270\n",
      "\n",
      "Epoch 2\n",
      "-------------------------------\n",
      "loss: 0.241113 [  100/33600]\n",
      "loss: 0.325025 [10100/33600]\n",
      "loss: 0.323316 [20100/33600]\n",
      "loss: 0.231328 [30100/33600]\n",
      "Validation: Accuracy=98.0%, Average_Loss=0.059262\n",
      "\n",
      "Epoch 3\n",
      "-------------------------------\n",
      "loss: 0.176649 [  100/33600]\n",
      "loss: 0.190975 [10100/33600]\n",
      "loss: 0.303267 [20100/33600]\n",
      "loss: 0.130003 [30100/33600]\n",
      "Validation: Accuracy=98.4%, Average_Loss=0.050965\n",
      "\n",
      "Epoch 4\n",
      "-------------------------------\n",
      "loss: 0.159528 [  100/33600]\n",
      "loss: 0.206334 [10100/33600]\n",
      "loss: 0.166055 [20100/33600]\n",
      "loss: 0.237737 [30100/33600]\n",
      "Validation: Accuracy=98.4%, Average_Loss=0.047184\n",
      "\n",
      "Epoch 5\n",
      "-------------------------------\n",
      "loss: 0.318449 [  100/33600]\n",
      "loss: 0.061951 [10100/33600]\n",
      "loss: 0.081967 [20100/33600]\n",
      "loss: 0.245102 [30100/33600]\n",
      "Validation: Accuracy=98.8%, Average_Loss=0.036191\n",
      "\n",
      "Epoch 6\n",
      "-------------------------------\n",
      "loss: 0.033406 [  100/33600]\n",
      "loss: 0.291876 [10100/33600]\n",
      "loss: 0.116702 [20100/33600]\n",
      "loss: 0.180537 [30100/33600]\n",
      "Validation: Accuracy=98.9%, Average_Loss=0.037230\n",
      "\n",
      "Epoch 7\n",
      "-------------------------------\n",
      "loss: 0.141514 [  100/33600]\n",
      "loss: 0.244364 [10100/33600]\n",
      "loss: 0.115032 [20100/33600]\n",
      "loss: 0.142564 [30100/33600]\n",
      "Validation: Accuracy=98.9%, Average_Loss=0.030825\n",
      "\n",
      "Epoch 8\n",
      "-------------------------------\n",
      "loss: 0.110536 [  100/33600]\n",
      "loss: 0.191458 [10100/33600]\n",
      "loss: 0.083834 [20100/33600]\n",
      "loss: 0.049157 [30100/33600]\n",
      "Validation: Accuracy=98.8%, Average_Loss=0.037714\n",
      "\n",
      "Epoch 9\n",
      "-------------------------------\n",
      "loss: 0.077672 [  100/33600]\n",
      "loss: 0.125731 [10100/33600]\n",
      "loss: 0.047382 [20100/33600]\n",
      "loss: 0.107439 [30100/33600]\n",
      "Validation: Accuracy=99.0%, Average_Loss=0.027992\n",
      "\n",
      "Epoch 10\n",
      "-------------------------------\n",
      "loss: 0.107419 [  100/33600]\n",
      "loss: 0.117339 [10100/33600]\n",
      "loss: 0.068992 [20100/33600]\n",
      "loss: 0.131308 [30100/33600]\n",
      "Validation: Accuracy=98.9%, Average_Loss=0.031416\n",
      "\n"
     ]
    }
   ],
   "source": [
    "epochs = 10\n",
    "\n",
    "for epoch in range(epochs):\n",
    "    print(f'Epoch {epoch+1}\\n-------------------------------')\n",
    "    train_loop(train_loader, model, loss_fn, optimizer)\n",
    "    valid_loop(valid_loader, model, loss_fn)"
   ]
  },
  {
   "cell_type": "markdown",
   "metadata": {},
   "source": [
    "## Submission"
   ]
  },
  {
   "cell_type": "code",
   "execution_count": 19,
   "metadata": {},
   "outputs": [],
   "source": [
    "X_test = test_data.values\n",
    "X_test = torch.from_numpy(X_test / 255)\n",
    "\n",
    "y_test = np.zeros(X_test.shape)\n",
    "y_test = torch.from_numpy(y_test)\n",
    "\n",
    "test_ds = torch.utils.data.TensorDataset(X_test, y_test)\n",
    "test_loader = torch.utils.data.DataLoader(test_ds, batch_size=BATCH_SIZE, shuffle=False)"
   ]
  },
  {
   "cell_type": "code",
   "execution_count": 20,
   "metadata": {},
   "outputs": [],
   "source": [
    "submission_rows = [['ImageId', 'Label']]\n",
    "\n",
    "with torch.no_grad():\n",
    "    model.eval()\n",
    "    image_id = 1\n",
    "\n",
    "    for X, _ in test_loader:\n",
    "        X = (X.view(-1, 1, 28, 28)).type(torch.FloatTensor).to(DEVICE)\n",
    "        preds = model(X).argmax(1)\n",
    "\n",
    "        for pred in preds:\n",
    "            submission_rows.append([image_id, pred.item()])\n",
    "            image_id += 1\n",
    "\n",
    "submission = pd.DataFrame(submission_rows)\n",
    "submission.columns = submission.iloc[0]\n",
    "submission = submission.drop(0, axis=0)\n",
    "\n",
    "submission.to_csv('submission.csv', index=False)"
   ]
  }
 ],
 "metadata": {
  "kernelspec": {
   "display_name": "Python 3 (ipykernel)",
   "language": "python",
   "name": "python3"
  },
  "language_info": {
   "codemirror_mode": {
    "name": "ipython",
    "version": 3
   },
   "file_extension": ".py",
   "mimetype": "text/x-python",
   "name": "python",
   "nbconvert_exporter": "python",
   "pygments_lexer": "ipython3",
   "version": "3.10.12"
  }
 },
 "nbformat": 4,
 "nbformat_minor": 4
}
